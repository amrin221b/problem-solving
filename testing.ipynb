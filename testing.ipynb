{
 "cells": [
  {
   "cell_type": "markdown",
   "metadata": {},
   "source": [
    "# testing\n",
    "\n",
    "Use the \"Run\" button to execute the code."
   ]
  },
  {
   "cell_type": "code",
   "execution_count": 1,
   "metadata": {},
   "outputs": [],
   "source": [
    "#!pip install jovian --upgrade --quiet"
   ]
  },
  {
   "cell_type": "code",
   "execution_count": 2,
   "metadata": {},
   "outputs": [],
   "source": [
    "#import jovian"
   ]
  },
  {
   "cell_type": "code",
   "execution_count": 3,
   "metadata": {},
   "outputs": [
    {
     "data": {
      "application/javascript": "window.require && require([\"base/js/namespace\"],function(Jupyter){Jupyter.notebook.save_checkpoint()})",
      "text/plain": [
       "<IPython.core.display.Javascript object>"
      ]
     },
     "metadata": {},
     "output_type": "display_data"
    },
    {
     "name": "stdout",
     "output_type": "stream",
     "text": [
      "[jovian] Updating notebook \"amrinpasha336/testing\" on https://jovian.ai\u001b[0m\n",
      "[jovian] Committed successfully! https://jovian.ai/amrinpasha336/testing\u001b[0m\n"
     ]
    },
    {
     "data": {
      "text/plain": [
       "'https://jovian.ai/amrinpasha336/testing'"
      ]
     },
     "execution_count": 3,
     "metadata": {},
     "output_type": "execute_result"
    }
   ],
   "source": [
    "# Execute this to save new versions of the notebook\n",
    "#jovian.commit(project=\"testing\")"
   ]
  },
  {
   "cell_type": "code",
   "execution_count": 4,
   "metadata": {},
   "outputs": [
    {
     "name": "stdout",
     "output_type": "stream",
     "text": [
      "11 is a prime number\n"
     ]
    }
   ],
   "source": [
    "#1(a) Check if the given number is prime number of not \n",
    "\n",
    "def primeN(num):\n",
    "    for i in range(2,num):\n",
    "        if num%i == 0:\n",
    "            print(f\"{num} is not a prime number\")\n",
    "            break\n",
    "    else:\n",
    "        print(f\"{num} is a prime number\")\n",
    "            \n",
    "    \n",
    "primeN(11)"
   ]
  },
  {
   "cell_type": "code",
   "execution_count": 5,
   "metadata": {},
   "outputs": [
    {
     "name": "stdout",
     "output_type": "stream",
     "text": [
      "Prime numbers between 1 and 10 are:\n",
      "2\n",
      "3\n",
      "5\n",
      "7\n"
     ]
    }
   ],
   "source": [
    "# 1(b) prime number series:\n",
    "\n",
    "def primestart(start,end):\n",
    "    \n",
    "    print(f\"Prime numbers between {start} and {end} are:\")\n",
    "\n",
    "    for num in range(start,end+1):\n",
    "        if num > 1:\n",
    "            for i in range(2,num):\n",
    "                if num%i == 0:\n",
    "                    break\n",
    "            else:\n",
    "                print(num)\n",
    "                \n",
    "primestart(1,10)\n",
    "        \n",
    "    "
   ]
  },
  {
   "cell_type": "code",
   "execution_count": 6,
   "metadata": {},
   "outputs": [
    {
     "data": {
      "text/plain": [
       "[2, 3, 5, 7, 11, 13, 17, 19, 23, 29]"
      ]
     },
     "execution_count": 6,
     "metadata": {},
     "output_type": "execute_result"
    }
   ],
   "source": [
    "# first n number of prime number\n",
    "\n",
    "def generate_n_primes(N):\n",
    "    \n",
    "    primes  = []\n",
    "    chkthis = 2\n",
    "    \n",
    "    while len(primes) < N:\n",
    "        ptest    = [chkthis for i in primes if chkthis%i == 0]\n",
    "        primes  += [] if ptest else [chkthis]\n",
    "        chkthis += 1\n",
    "        \n",
    "    return primes\n",
    "    \n",
    "generate_n_primes(10)"
   ]
  },
  {
   "cell_type": "code",
   "execution_count": 7,
   "metadata": {},
   "outputs": [
    {
     "name": "stdout",
     "output_type": "stream",
     "text": [
      "Enter N:6\n",
      "First 6 Prime numbers are:\n",
      "2 3 5 7 11 13\n"
     ]
    }
   ],
   "source": [
    "# first n number of prime number\n",
    "\n",
    "def Prime(n):  \n",
    "    for i in range(2,n):  \n",
    "        if(n%i==0):  \n",
    "            return(0)  \n",
    "    return(1)  \n",
    "  \n",
    "N=int(input(\"Enter N:\"))  \n",
    "i=2 \n",
    "primes=[] \n",
    "while N!=0:  \n",
    "    if(Prime(i)):  \n",
    "        primes.append(i) \n",
    "        if(len(primes)==N): \n",
    "            break \n",
    "    i+=1 \n",
    "print(f'First {N} Prime numbers are:')\n",
    "print(*primes) "
   ]
  },
  {
   "cell_type": "code",
   "execution_count": 8,
   "metadata": {},
   "outputs": [
    {
     "name": "stdout",
     "output_type": "stream",
     "text": [
      "55\n"
     ]
    }
   ],
   "source": [
    "# calculate sum of 1st n numbers\n",
    "\n",
    "def Number(n):\n",
    "    s = 0\n",
    "    for i in range(0,n+1):\n",
    "        s = s+i\n",
    "    print(s)\n",
    "Number(10)"
   ]
  },
  {
   "cell_type": "code",
   "execution_count": 9,
   "metadata": {},
   "outputs": [
    {
     "name": "stdout",
     "output_type": "stream",
     "text": [
      "first 10 odd numbers:\n",
      "1 3 5 7 9 11 13 15 17 19 \n",
      "\n",
      "first 10 even numbers: \n",
      "2 4 6 8 10 12 14 16 18 "
     ]
    }
   ],
   "source": [
    "#3 first 10 odd numbers | even numbers\n",
    "\n",
    "def odd(o):\n",
    "    print(f'first {o} odd numbers:')\n",
    "    for i in range(1,2*o):\n",
    "        if i%2 !=0:\n",
    "            print(i,end= \" \")\n",
    "    \n",
    "    print('\\n')\n",
    "    print(f'first {o} even numbers: ')\n",
    "    for i in range(1,2*o):\n",
    "        if i%2 == 0:\n",
    "            print(i,end = \" \")\n",
    "    \n",
    "odd(10)\n"
   ]
  },
  {
   "cell_type": "code",
   "execution_count": 10,
   "metadata": {},
   "outputs": [
    {
     "name": "stdout",
     "output_type": "stream",
     "text": [
      "2022 is not a leap year\n"
     ]
    }
   ],
   "source": [
    "# 4. leap year:\n",
    "\n",
    "def checkyear(n):\n",
    "    if n%100==0 and n%400==0:\n",
    "        print(f'{n} is a leap year')\n",
    "        \n",
    "    elif n%4 == 0 and n%100 !=0:\n",
    "        print(f'{n} is a leap year')\n",
    "        \n",
    "    else:\n",
    "        print(f'{n} is not a leap year')\n",
    "\n",
    "checkyear(2022)\n"
   ]
  },
  {
   "cell_type": "code",
   "execution_count": 12,
   "metadata": {},
   "outputs": [
    {
     "name": "stdout",
     "output_type": "stream",
     "text": [
      "number of elements: 12\n",
      "0 11 12 \n",
      "\n",
      "3 elements are missing from the list\n"
     ]
    }
   ],
   "source": [
    "#5. Find missing number\n",
    "\n",
    "\n",
    "def missing_num(lst):\n",
    "    l = []\n",
    "    element = int(input('number of elements: '))\n",
    "    \n",
    "    for n in range(0,element+1): \n",
    "        if n not in sorted(lst):\n",
    "            print(n,end = \" \")\n",
    "            l.append(n)\n",
    "    \n",
    "    print(\"\\n\")\n",
    "    if len(l)==1:\n",
    "        print(f'{len(l)} element is missing from the list')\n",
    "\n",
    "        \n",
    "    elif len(l)>1:\n",
    "        print(f'{len(l)} elements are missing from the list')\n",
    "\n",
    "\n",
    "    if not l:\n",
    "        print(\"Nothing is missing\")\n",
    "missing_num([1,2,3,4,5,6,7,9,8,10])"
   ]
  },
  {
   "cell_type": "code",
   "execution_count": 13,
   "metadata": {},
   "outputs": [
    {
     "name": "stdout",
     "output_type": "stream",
     "text": [
      "0 1 1 2 3 5 8 13 21 34 "
     ]
    }
   ],
   "source": [
    "# 6.fibonacci series\n",
    "# Enter number of terms needed                   #0,1,1,2,3,5....\n",
    "\n",
    "def fibonacci(a):\n",
    "    f=0    #first element of series\n",
    "    s=1    #second element of series\n",
    "\n",
    "    if a<=0:\n",
    "        print(\"The requested series is invalid\")\n",
    "    else:\n",
    "        print(f,s,end=\" \")\n",
    "        for x in range(2,a):\n",
    "            next=f+s                           \n",
    "            print(next,end=\" \")\n",
    "            f=s\n",
    "            s=next\n",
    "\n",
    "\n",
    "fibonacci(10)\n"
   ]
  },
  {
   "cell_type": "code",
   "execution_count": 14,
   "metadata": {},
   "outputs": [
    {
     "name": "stdout",
     "output_type": "stream",
     "text": [
      "0 1 1 2 3 5 8 13 21 "
     ]
    }
   ],
   "source": [
    "def fibonacci(n):\n",
    "    f = 0\n",
    "    s = 1\n",
    "    if n<=0:\n",
    "        print(\"invalid request\")\n",
    "    else:\n",
    "        print(f,s,end = ' ')\n",
    "        for i in range(2,n):\n",
    "            next = f+s\n",
    "            print(next, end = ' ')\n",
    "            f = s\n",
    "            s = next\n",
    "fibonacci(9)"
   ]
  },
  {
   "cell_type": "code",
   "execution_count": 15,
   "metadata": {},
   "outputs": [
    {
     "name": "stdout",
     "output_type": "stream",
     "text": [
      "Smallest element is: 3\n",
      "Largest element is: 100\n"
     ]
    }
   ],
   "source": [
    "# find largest / smallest in a list\n",
    "\n",
    "# list of numbers\n",
    "def num(lst):\n",
    "    # sorting the list\n",
    "    lst.sort()\n",
    "    # printing the first element\n",
    "    print(\"Smallest element is:\", lst[0])\n",
    "    \n",
    "    print('Largest element is:',lst[-1])\n",
    "    \n",
    "num([7, 10, 12, 3, 100, 95])"
   ]
  },
  {
   "cell_type": "code",
   "execution_count": 19,
   "metadata": {},
   "outputs": [
    {
     "name": "stdout",
     "output_type": "stream",
     "text": [
      "largest number of list1 is 322\n",
      "smallest number of list1 is -3\n"
     ]
    }
   ],
   "source": [
    "#using max and minimum\n",
    "\n",
    "list1 = [-3,8,10,13,15,22,322]\n",
    "\n",
    "print(f'largest number of list1 is {max(list1)}')\n",
    "print(f'smallest number of list1 is {min(list1)}')"
   ]
  },
  {
   "cell_type": "code",
   "execution_count": null,
   "metadata": {},
   "outputs": [
    {
     "data": {
      "application/javascript": "window.require && require([\"base/js/namespace\"],function(Jupyter){Jupyter.notebook.save_checkpoint()})",
      "text/plain": [
       "<IPython.core.display.Javascript object>"
      ]
     },
     "metadata": {},
     "output_type": "display_data"
    }
   ],
   "source": [
    "#jovian.commit()"
   ]
  },
  {
   "cell_type": "code",
   "execution_count": null,
   "metadata": {},
   "outputs": [],
   "source": []
  },
  {
   "cell_type": "code",
   "execution_count": null,
   "metadata": {},
   "outputs": [],
   "source": []
  }
 ],
 "metadata": {
  "language_info": {
   "codemirror_mode": {
    "name": "ipython",
    "version": 3
   },
   "file_extension": ".py",
   "mimetype": "text/x-python",
   "name": "python",
   "nbconvert_exporter": "python",
   "pygments_lexer": "ipython3",
   "version": "3.9.6"
  }
 },
 "nbformat": 4,
 "nbformat_minor": 2
}
